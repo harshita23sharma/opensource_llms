{
  "nbformat": 4,
  "nbformat_minor": 0,
  "metadata": {
    "colab": {
      "provenance": [],
      "gpuType": "T4",
      "authorship_tag": "ABX9TyOh8riIdyeMqTubtrjndPMW",
      "include_colab_link": true
    },
    "kernelspec": {
      "name": "python3",
      "display_name": "Python 3"
    },
    "language_info": {
      "name": "python"
    },
    "accelerator": "GPU"
  },
  "cells": [
    {
      "cell_type": "markdown",
      "metadata": {
        "id": "view-in-github",
        "colab_type": "text"
      },
      "source": [
        "<a href=\"https://colab.research.google.com/github/harshita23sharma/opensource_llms/blob/main/vllm_and_paged_attention.ipynb\" target=\"_parent\"><img src=\"https://colab.research.google.com/assets/colab-badge.svg\" alt=\"Open In Colab\"/></a>"
      ]
    },
    {
      "cell_type": "markdown",
      "source": [
        "**PAGED ATTENTION**: An attention algorithm that allows for storing continuous keys and values in non-contiguous memory space.\n",
        "\n",
        "\n",
        "\n",
        "*   KV cache ofeach sequence is partitioned into blocks\n",
        "*   Each block has block_size = number of tokens\n",
        "*   During the attention computation, the PagedAttention kernel identifies and fetches these blocks efficiently"
      ],
      "metadata": {
        "id": "4nqIpBv-ECUf"
      }
    },
    {
      "cell_type": "code",
      "source": [
        "!pip install vllm"
      ],
      "metadata": {
        "id": "7UpgXZM7EDmj"
      },
      "execution_count": null,
      "outputs": []
    },
    {
      "cell_type": "code",
      "source": [
        "from vllm import LLM\n",
        "\n",
        "prompts = [\"Hello, my name is\", \"The capital of France is\"]  # Sample prompts.\n",
        "llm = LLM(model=\"lmsys/vicuna-7b-v1.5\")  # Create an LLM.\n",
        "outputs = llm.generate(prompts)"
      ],
      "metadata": {
        "id": "0N_EcK8m9Y0R"
      },
      "execution_count": null,
      "outputs": []
    },
    {
      "cell_type": "code",
      "source": [
        "#Lesser Inference time\n",
        "#TODO: Also test for throughput"
      ],
      "metadata": {
        "id": "OUosgshQ-P25"
      },
      "execution_count": null,
      "outputs": []
    },
    {
      "cell_type": "markdown",
      "source": [
        "\n",
        "\n",
        "Advantages of Paged Attention and vLLM:\n",
        "\n",
        "\n",
        "\n",
        "*   No memory wastage: On demand block allocation and memory waste only happens in the last block of a sequence\n",
        "*   Prompt sharing parallely: Multiple output sequences are generated from the same prompt. In this case, the computation and memory for the prompt can be shared between the output sequences.\n",
        "* Enables memory sharing through its block table\n",
        "*   Enables high throughput\n",
        "\n",
        "\n",
        "\n"
      ],
      "metadata": {
        "id": "3ELP0Khy-yWc"
      }
    }
  ]
}